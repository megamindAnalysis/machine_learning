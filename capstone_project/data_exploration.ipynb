{
 "cells": [
  {
   "cell_type": "code",
   "execution_count": 1,
   "metadata": {},
   "outputs": [],
   "source": [
    "import pandas as pd\n",
    "import numpy as np\n",
    "import matplotlib.pyplot as plt\n",
    "from datetime import datetime\n",
    "from IPython.display import display # Allows the use of display() for DataFrames\n",
    "#import visuals as vs # Import supplementary visualization code visuals.py\n",
    "from sklearn.preprocessing import MinMaxScaler # Import sklearn.preprocessing.StandardScaler\n",
    "import seaborn as sns\n",
    "from scipy import stats\n",
    "from time import time\n",
    "pd.set_option(\"display.max_rows\", 1000)\n",
    "pd.set_option(\"display.max_columns\", 1000)\n",
    "#pd.set_option('display.float_format', lambda x: '%.3f' % x)\n",
    "pd.set_option('display.float_format', lambda x: '%.0f' % x)"
   ]
  },
  {
   "cell_type": "code",
   "execution_count": 3,
   "metadata": {},
   "outputs": [
    {
     "name": "stderr",
     "output_type": "stream",
     "text": [
      "/anaconda3/lib/python3.6/site-packages/IPython/core/interactiveshell.py:2728: DtypeWarning: Columns (14,15) have mixed types. Specify dtype option on import or set low_memory=False.\n",
      "  interactivity=interactivity, compiler=compiler, result=result)\n"
     ]
    }
   ],
   "source": [
    "data_tuesday_original = pd.read_csv('data/Tuesday-WorkingHours.pcap_ISCX.csv')"
   ]
  },
  {
   "cell_type": "code",
   "execution_count": 4,
   "metadata": {},
   "outputs": [],
   "source": [
    "data_tuesday = data_tuesday_original.copy()"
   ]
  },
  {
   "cell_type": "code",
   "execution_count": 5,
   "metadata": {},
   "outputs": [],
   "source": [
    "X = data_tuesday.drop([' Label'], axis=1)\n",
    "y = data_tuesday[' Label']"
   ]
  },
  {
   "cell_type": "code",
   "execution_count": 6,
   "metadata": {
    "scrolled": true
   },
   "outputs": [
    {
     "data": {
      "text/plain": [
       "array([[1.343e-03, 5.367e-06, 2.906e-05, 1.449e-05, 1.812e-04, 5.710e-07,\n",
       "        8.864e-03, 0.000e+00, 1.345e-02, 1.989e-02, 1.362e-02, 0.000e+00,\n",
       "        2.396e-02, 2.513e-02, 5.667e-07, 1.599e-06, 3.742e-06, 1.167e-07,\n",
       "        5.333e-06, 8.889e-07, 2.302e-06, 4.142e-06, 8.333e-09, 4.483e-06,\n",
       "        1.494e-06, 3.677e-06, 4.417e-06, 3.333e-08, 0.000e+00, 0.000e+00,\n",
       "        0.000e+00, 0.000e+00, 9.999e-01, 9.949e-01],\n",
       "       [1.343e-03, 7.533e-06, 3.875e-05, 1.449e-05, 2.471e-04, 4.695e-06,\n",
       "        1.209e-02, 0.000e+00, 1.427e-02, 2.451e-02, 1.120e-01, 0.000e+00,\n",
       "        1.970e-01, 2.066e-01, 6.583e-07, 2.274e-06, 5.733e-06, 1.167e-07,\n",
       "        7.500e-06, 9.375e-07, 2.991e-06, 6.117e-06, 8.333e-09, 6.383e-06,\n",
       "        2.128e-06, 5.270e-06, 6.317e-06, 2.500e-08, 0.000e+00, 0.000e+00,\n",
       "        0.000e+00, 0.000e+00, 9.999e-01, 9.949e-01],\n",
       "       [1.343e-03, 1.008e-05, 2.906e-05, 1.449e-05, 1.143e-03, 4.514e-06,\n",
       "        5.592e-02, 0.000e+00, 8.488e-02, 1.255e-01, 1.077e-01, 0.000e+00,\n",
       "        1.894e-01, 1.986e-01, 1.037e-06, 2.788e-06, 6.508e-06, 1.167e-07,\n",
       "        1.004e-05, 1.674e-06, 4.704e-06, 8.400e-06, 8.333e-09, 7.725e-06,\n",
       "        2.575e-06, 5.952e-06, 7.300e-06, 8.333e-09, 0.000e+00, 0.000e+00,\n",
       "        0.000e+00, 0.000e+00, 9.999e-01, 9.949e-01],\n",
       "       [1.343e-03, 4.292e-06, 2.906e-05, 1.449e-05, 1.861e-04, 5.901e-07,\n",
       "        9.106e-03, 0.000e+00, 1.382e-02, 2.043e-02, 1.408e-02, 0.000e+00,\n",
       "        2.476e-02, 2.597e-02, 4.592e-07, 1.070e-06, 2.525e-06, 1.167e-07,\n",
       "        4.258e-06, 7.097e-07, 1.563e-06, 2.908e-06, 8.333e-09, 3.850e-06,\n",
       "        1.283e-06, 2.721e-06, 3.433e-06, 8.333e-09, 0.000e+00, 0.000e+00,\n",
       "        0.000e+00, 0.000e+00, 9.999e-01, 9.949e-01],\n",
       "       [1.343e-03, 6.475e-06, 3.875e-05, 1.449e-05, 2.520e-04, 4.695e-06,\n",
       "        1.233e-02, 0.000e+00, 1.455e-02, 2.500e-02, 1.120e-01, 0.000e+00,\n",
       "        1.970e-01, 2.066e-01, 5.701e-07, 1.754e-06, 4.458e-06, 1.167e-07,\n",
       "        6.442e-06, 8.052e-07, 2.330e-06, 4.833e-06, 8.333e-09, 5.625e-06,\n",
       "        1.875e-06, 4.224e-06, 5.225e-06, 8.333e-09, 0.000e+00, 0.000e+00,\n",
       "        0.000e+00, 0.000e+00, 9.999e-01, 9.949e-01]])"
      ]
     },
     "metadata": {},
     "output_type": "display_data"
    }
   ],
   "source": [
    "features = [' Destination Port', ' Flow Duration', ' Total Fwd Packets',\n",
    "       ' Total Backward Packets', 'Total Length of Fwd Packets',\n",
    "       ' Total Length of Bwd Packets', ' Fwd Packet Length Max',\n",
    "       ' Fwd Packet Length Min', ' Fwd Packet Length Mean',\n",
    "       ' Fwd Packet Length Std', 'Bwd Packet Length Max',\n",
    "       ' Bwd Packet Length Min', ' Bwd Packet Length Mean',\n",
    "       ' Bwd Packet Length Std', \n",
    "       ' Flow IAT Mean', ' Flow IAT Std', ' Flow IAT Max', ' Flow IAT Min',\n",
    "       'Fwd IAT Total', ' Fwd IAT Mean', ' Fwd IAT Std', ' Fwd IAT Max',\n",
    "       ' Fwd IAT Min', 'Bwd IAT Total', ' Bwd IAT Mean', ' Bwd IAT Std',\n",
    "       ' Bwd IAT Max', ' Bwd IAT Min', 'Fwd PSH Flags', ' Bwd PSH Flags',\n",
    "       ' Fwd URG Flags', ' Bwd URG Flags', ' Fwd Header Length',\n",
    "       ' Bwd Header Length']\n",
    "\n",
    "scaler = MinMaxScaler(feature_range=(0, 1))\n",
    "X = scaler.fit_transform(X[features])\n",
    "\n",
    "# summarize transformed data\n",
    "np.set_printoptions(precision=3)\n",
    "display(X[0:5,:])"
   ]
  },
  {
   "cell_type": "code",
   "execution_count": 7,
   "metadata": {},
   "outputs": [
    {
     "data": {
      "text/plain": [
       "array([[1., 0., 0.],\n",
       "       [1., 0., 0.],\n",
       "       [1., 0., 0.],\n",
       "       ...,\n",
       "       [1., 0., 0.],\n",
       "       [1., 0., 0.],\n",
       "       [1., 0., 0.]])"
      ]
     },
     "metadata": {},
     "output_type": "display_data"
    }
   ],
   "source": [
    "y = pd.get_dummies(y)\n",
    "scaler = MinMaxScaler(feature_range=(0, 1))\n",
    "y = scaler.fit_transform(y)\n",
    "np.set_printoptions(precision=3)\n",
    "display(y[0:1000,:])\n"
   ]
  },
  {
   "cell_type": "code",
   "execution_count": 8,
   "metadata": {},
   "outputs": [],
   "source": [
    "from sklearn.ensemble import RandomForestClassifier\n",
    "rfc = RandomForestClassifier();\n",
    "\n",
    "rfc.fit(X,y);\n",
    "\n",
    "# extract important features\n",
    "score = np.round(rfc.feature_importances_,3)\n",
    "\n",
    "#importances = pd.DataFrame({'feature':refclasscol,'importance':score})\n",
    "#importances = importances.sort_values('importance',ascending=False).set_index('feature')\n",
    "# plot importances\n",
    "#plt.rcParams['figure.figsize'] = (11, 4)\n",
    "#importances.plot.bar();"
   ]
  },
  {
   "cell_type": "code",
   "execution_count": 9,
   "metadata": {},
   "outputs": [
    {
     "name": "stdout",
     "output_type": "stream",
     "text": [
      " Destination Port 0.348\n",
      " Flow Duration 0.01\n",
      " Total Fwd Packets 0.018\n",
      " Total Backward Packets 0.018\n",
      "Total Length of Fwd Packets 0.058\n",
      " Total Length of Bwd Packets 0.0\n",
      " Fwd Packet Length Max 0.087\n",
      " Fwd Packet Length Min 0.0\n",
      " Fwd Packet Length Mean 0.065\n",
      " Fwd Packet Length Std 0.053\n",
      "Bwd Packet Length Max 0.04\n",
      " Bwd Packet Length Min 0.0\n",
      " Bwd Packet Length Mean 0.043\n",
      " Bwd Packet Length Std 0.008\n",
      " Flow IAT Mean 0.022\n",
      " Flow IAT Std 0.001\n",
      " Flow IAT Max 0.003\n",
      " Flow IAT Min 0.001\n",
      "Fwd IAT Total 0.005\n",
      " Fwd IAT Mean 0.007\n",
      " Fwd IAT Std 0.011\n",
      " Fwd IAT Max 0.017\n",
      " Fwd IAT Min 0.01\n",
      "Bwd IAT Total 0.033\n",
      " Bwd IAT Mean 0.036\n",
      " Bwd IAT Std 0.02\n",
      " Bwd IAT Max 0.03\n",
      " Bwd IAT Min 0.003\n",
      "Fwd PSH Flags 0.054\n",
      " Bwd PSH Flags 0.0\n",
      " Fwd URG Flags 0.0\n",
      " Bwd URG Flags 0.0\n",
      " Fwd Header Length 0.0\n",
      " Bwd Header Length 0.001\n"
     ]
    }
   ],
   "source": [
    "for x, y  in zip(features, range(0, len(features))):\n",
    "    print(x, score[y])\n",
    "    \n",
    "importance = pd.DataFrame({'feature':x,'importance':score[y]} for x, y in zip(features, range(0, len(features))))"
   ]
  },
  {
   "cell_type": "code",
   "execution_count": 10,
   "metadata": {},
   "outputs": [
    {
     "data": {
      "text/plain": [
       "Text(0.5,1,'Importance of Features')"
      ]
     },
     "execution_count": 10,
     "metadata": {},
     "output_type": "execute_result"
    },
    {
     "data": {
      "image/png": "[encoded data removed]",
      "text/plain": [
       "<matplotlib.figure.Figure at 0x1077950b8>"
      ]
     },
     "metadata": {},
     "output_type": "display_data"
    }
   ],
   "source": [
    "pd.set_option('display.float_format', lambda x: '%.3f' % x)\n",
    "importance = importance.sort_values('importance', ascending=False).set_index('feature')\n",
    "\n",
    "\n",
    "plt.rcParams['figure.figsize'] = (11,4)\n",
    "plot = importance.plot.bar()\n",
    "plot.set_title(\"Importance of Features\", fontsize=20)\n",
    "\n",
    "\n",
    "#importances = importances.sort_values('importance',ascending=False).set_index('feature')\n",
    "# plot importances\n",
    "#plt.rcParams['figure.figsize'] = (11, 4)\n",
    "#importances.plot.bar();"
   ]
  },
  {
   "cell_type": "code",
   "execution_count": 11,
   "metadata": {},
   "outputs": [],
   "source": [
    "importance = pd.DataFrame({'feature':x,'importance':score[y]} for x, y in zip(features, range(0, len(features))))"
   ]
  },
  {
   "cell_type": "code",
   "execution_count": 12,
   "metadata": {},
   "outputs": [
    {
     "data": {
      "text/html": [
       "<div>\n",
       "<style scoped>\n",
       "    .dataframe tbody tr th:only-of-type {\n",
       "        vertical-align: middle;\n",
       "    }\n",
       "\n",
       "    .dataframe tbody tr th {\n",
       "        vertical-align: top;\n",
       "    }\n",
       "\n",
       "    .dataframe thead th {\n",
       "        text-align: right;\n",
       "    }\n",
       "</style>\n",
       "<table border=\"1\" class=\"dataframe\">\n",
       "  <thead>\n",
       "    <tr style=\"text-align: right;\">\n",
       "      <th></th>\n",
       "      <th>feature</th>\n",
       "      <th>importance</th>\n",
       "    </tr>\n",
       "  </thead>\n",
       "  <tbody>\n",
       "    <tr>\n",
       "      <th>0</th>\n",
       "      <td>Destination Port</td>\n",
       "      <td>0.348</td>\n",
       "    </tr>\n",
       "    <tr>\n",
       "      <th>6</th>\n",
       "      <td>Fwd Packet Length Max</td>\n",
       "      <td>0.087</td>\n",
       "    </tr>\n",
       "    <tr>\n",
       "      <th>8</th>\n",
       "      <td>Fwd Packet Length Mean</td>\n",
       "      <td>0.065</td>\n",
       "    </tr>\n",
       "    <tr>\n",
       "      <th>4</th>\n",
       "      <td>Total Length of Fwd Packets</td>\n",
       "      <td>0.058</td>\n",
       "    </tr>\n",
       "    <tr>\n",
       "      <th>28</th>\n",
       "      <td>Fwd PSH Flags</td>\n",
       "      <td>0.054</td>\n",
       "    </tr>\n",
       "    <tr>\n",
       "      <th>9</th>\n",
       "      <td>Fwd Packet Length Std</td>\n",
       "      <td>0.053</td>\n",
       "    </tr>\n",
       "    <tr>\n",
       "      <th>12</th>\n",
       "      <td>Bwd Packet Length Mean</td>\n",
       "      <td>0.043</td>\n",
       "    </tr>\n",
       "    <tr>\n",
       "      <th>10</th>\n",
       "      <td>Bwd Packet Length Max</td>\n",
       "      <td>0.040</td>\n",
       "    </tr>\n",
       "    <tr>\n",
       "      <th>24</th>\n",
       "      <td>Bwd IAT Mean</td>\n",
       "      <td>0.036</td>\n",
       "    </tr>\n",
       "    <tr>\n",
       "      <th>23</th>\n",
       "      <td>Bwd IAT Total</td>\n",
       "      <td>0.033</td>\n",
       "    </tr>\n",
       "    <tr>\n",
       "      <th>26</th>\n",
       "      <td>Bwd IAT Max</td>\n",
       "      <td>0.030</td>\n",
       "    </tr>\n",
       "    <tr>\n",
       "      <th>14</th>\n",
       "      <td>Flow IAT Mean</td>\n",
       "      <td>0.022</td>\n",
       "    </tr>\n",
       "    <tr>\n",
       "      <th>25</th>\n",
       "      <td>Bwd IAT Std</td>\n",
       "      <td>0.020</td>\n",
       "    </tr>\n",
       "    <tr>\n",
       "      <th>2</th>\n",
       "      <td>Total Fwd Packets</td>\n",
       "      <td>0.018</td>\n",
       "    </tr>\n",
       "    <tr>\n",
       "      <th>3</th>\n",
       "      <td>Total Backward Packets</td>\n",
       "      <td>0.018</td>\n",
       "    </tr>\n",
       "    <tr>\n",
       "      <th>21</th>\n",
       "      <td>Fwd IAT Max</td>\n",
       "      <td>0.017</td>\n",
       "    </tr>\n",
       "    <tr>\n",
       "      <th>20</th>\n",
       "      <td>Fwd IAT Std</td>\n",
       "      <td>0.011</td>\n",
       "    </tr>\n",
       "    <tr>\n",
       "      <th>1</th>\n",
       "      <td>Flow Duration</td>\n",
       "      <td>0.010</td>\n",
       "    </tr>\n",
       "    <tr>\n",
       "      <th>22</th>\n",
       "      <td>Fwd IAT Min</td>\n",
       "      <td>0.010</td>\n",
       "    </tr>\n",
       "    <tr>\n",
       "      <th>13</th>\n",
       "      <td>Bwd Packet Length Std</td>\n",
       "      <td>0.008</td>\n",
       "    </tr>\n",
       "    <tr>\n",
       "      <th>19</th>\n",
       "      <td>Fwd IAT Mean</td>\n",
       "      <td>0.007</td>\n",
       "    </tr>\n",
       "    <tr>\n",
       "      <th>18</th>\n",
       "      <td>Fwd IAT Total</td>\n",
       "      <td>0.005</td>\n",
       "    </tr>\n",
       "    <tr>\n",
       "      <th>16</th>\n",
       "      <td>Flow IAT Max</td>\n",
       "      <td>0.003</td>\n",
       "    </tr>\n",
       "    <tr>\n",
       "      <th>27</th>\n",
       "      <td>Bwd IAT Min</td>\n",
       "      <td>0.003</td>\n",
       "    </tr>\n",
       "    <tr>\n",
       "      <th>17</th>\n",
       "      <td>Flow IAT Min</td>\n",
       "      <td>0.001</td>\n",
       "    </tr>\n",
       "    <tr>\n",
       "      <th>15</th>\n",
       "      <td>Flow IAT Std</td>\n",
       "      <td>0.001</td>\n",
       "    </tr>\n",
       "    <tr>\n",
       "      <th>33</th>\n",
       "      <td>Bwd Header Length</td>\n",
       "      <td>0.001</td>\n",
       "    </tr>\n",
       "    <tr>\n",
       "      <th>11</th>\n",
       "      <td>Bwd Packet Length Min</td>\n",
       "      <td>0.000</td>\n",
       "    </tr>\n",
       "    <tr>\n",
       "      <th>7</th>\n",
       "      <td>Fwd Packet Length Min</td>\n",
       "      <td>0.000</td>\n",
       "    </tr>\n",
       "    <tr>\n",
       "      <th>5</th>\n",
       "      <td>Total Length of Bwd Packets</td>\n",
       "      <td>0.000</td>\n",
       "    </tr>\n",
       "    <tr>\n",
       "      <th>29</th>\n",
       "      <td>Bwd PSH Flags</td>\n",
       "      <td>0.000</td>\n",
       "    </tr>\n",
       "    <tr>\n",
       "      <th>30</th>\n",
       "      <td>Fwd URG Flags</td>\n",
       "      <td>0.000</td>\n",
       "    </tr>\n",
       "    <tr>\n",
       "      <th>31</th>\n",
       "      <td>Bwd URG Flags</td>\n",
       "      <td>0.000</td>\n",
       "    </tr>\n",
       "    <tr>\n",
       "      <th>32</th>\n",
       "      <td>Fwd Header Length</td>\n",
       "      <td>0.000</td>\n",
       "    </tr>\n",
       "  </tbody>\n",
       "</table>\n",
       "</div>"
      ],
      "text/plain": [
       "                         feature  importance\n",
       "0               Destination Port       0.348\n",
       "6          Fwd Packet Length Max       0.087\n",
       "8         Fwd Packet Length Mean       0.065\n",
       "4    Total Length of Fwd Packets       0.058\n",
       "28                 Fwd PSH Flags       0.054\n",
       "9          Fwd Packet Length Std       0.053\n",
       "12        Bwd Packet Length Mean       0.043\n",
       "10         Bwd Packet Length Max       0.040\n",
       "24                  Bwd IAT Mean       0.036\n",
       "23                 Bwd IAT Total       0.033\n",
       "26                   Bwd IAT Max       0.030\n",
       "14                 Flow IAT Mean       0.022\n",
       "25                   Bwd IAT Std       0.020\n",
       "2              Total Fwd Packets       0.018\n",
       "3         Total Backward Packets       0.018\n",
       "21                   Fwd IAT Max       0.017\n",
       "20                   Fwd IAT Std       0.011\n",
       "1                  Flow Duration       0.010\n",
       "22                   Fwd IAT Min       0.010\n",
       "13         Bwd Packet Length Std       0.008\n",
       "19                  Fwd IAT Mean       0.007\n",
       "18                 Fwd IAT Total       0.005\n",
       "16                  Flow IAT Max       0.003\n",
       "27                   Bwd IAT Min       0.003\n",
       "17                  Flow IAT Min       0.001\n",
       "15                  Flow IAT Std       0.001\n",
       "33             Bwd Header Length       0.001\n",
       "11         Bwd Packet Length Min       0.000\n",
       "7          Fwd Packet Length Min       0.000\n",
       "5    Total Length of Bwd Packets       0.000\n",
       "29                 Bwd PSH Flags       0.000\n",
       "30                 Fwd URG Flags       0.000\n",
       "31                 Bwd URG Flags       0.000\n",
       "32             Fwd Header Length       0.000"
      ]
     },
     "execution_count": 12,
     "metadata": {},
     "output_type": "execute_result"
    }
   ],
   "source": [
    "importance.sort_values('importance', ascending=False)"
   ]
  },
  {
   "cell_type": "code",
   "execution_count": 13,
   "metadata": {},
   "outputs": [
    {
     "data": {
      "text/html": [
       "<div>\n",
       "<style scoped>\n",
       "    .dataframe tbody tr th:only-of-type {\n",
       "        vertical-align: middle;\n",
       "    }\n",
       "\n",
       "    .dataframe tbody tr th {\n",
       "        vertical-align: top;\n",
       "    }\n",
       "\n",
       "    .dataframe thead th {\n",
       "        text-align: right;\n",
       "    }\n",
       "</style>\n",
       "<table border=\"1\" class=\"dataframe\">\n",
       "  <thead>\n",
       "    <tr style=\"text-align: right;\">\n",
       "      <th></th>\n",
       "      <th>Label</th>\n",
       "    </tr>\n",
       "  </thead>\n",
       "  <tbody>\n",
       "    <tr>\n",
       "      <th>BENIGN</th>\n",
       "      <td>432074</td>\n",
       "    </tr>\n",
       "    <tr>\n",
       "      <th>FTP-Patator</th>\n",
       "      <td>7938</td>\n",
       "    </tr>\n",
       "    <tr>\n",
       "      <th>SSH-Patator</th>\n",
       "      <td>5897</td>\n",
       "    </tr>\n",
       "  </tbody>\n",
       "</table>\n",
       "</div>"
      ],
      "text/plain": [
       "              Label\n",
       "BENIGN       432074\n",
       "FTP-Patator    7938\n",
       "SSH-Patator    5897"
      ]
     },
     "execution_count": 13,
     "metadata": {},
     "output_type": "execute_result"
    }
   ],
   "source": [
    "attack_class_freq_train = data_tuesday[[' Label']].apply(lambda x: x.value_counts())\n",
    "attack_class_dist = attack_class_freq_train\n",
    "attack_class_dist"
   ]
  },
  {
   "cell_type": "code",
   "execution_count": 14,
   "metadata": {},
   "outputs": [
    {
     "data": {
      "image/png": "[encoded data removed]",
      "text/plain": [
       "<matplotlib.figure.Figure at 0x10b5ce160>"
      ]
     },
     "metadata": {},
     "output_type": "display_data"
    }
   ],
   "source": [
    "#plot = attack_class_dist[['frequency_percent_train', 'frequency_percent_test']].plot(kind=\"bar\");\n",
    "plot = attack_class_dist.plot(kind=\"bar\");\n",
    "plot.set_title(\"Attack Frequency\", fontsize=20);\n",
    "#plt.annotate('figure points',\n",
    "#            xy=(80, 80), xycoords='figure points')\n",
    "plot.grid(color='lightgray', alpha=0.5);"
   ]
  },
  {
   "cell_type": "code",
   "execution_count": null,
   "metadata": {},
   "outputs": [],
   "source": []
  }
 ],
 "metadata": {
  "kernelspec": {
   "display_name": "Python 3",
   "language": "python",
   "name": "python3"
  },
  "language_info": {
   "codemirror_mode": {
    "name": "ipython",
    "version": 3
   },
   "file_extension": ".py",
   "mimetype": "text/x-python",
   "name": "python",
   "nbconvert_exporter": "python",
   "pygments_lexer": "ipython3",
   "version": "3.6.4"
  }
 },
 "nbformat": 4,
 "nbformat_minor": 2
}
